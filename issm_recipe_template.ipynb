{
 "cells": [
  {
   "cell_type": "markdown",
   "id": "29613115-216d-4348-9268-85b9641f1830",
   "metadata": {},
   "source": [
    "# Recipe title"
   ]
  },
  {
   "cell_type": "markdown",
   "id": "5b0ba6ed-4c7e-4a8a-a594-bbbed5c069f1",
   "metadata": {},
   "source": [
    "##### Description:\n",
    "Describe the recipe: summarise what it does, where it comes from, and what its purpose is.\n",
    "\n",
    "##### Written by: \n",
    "Recipe author(s), Date\n",
    "\n",
    "##### Data requirements: \n",
    "What are the inputs required to run this recipe? Describe the data, its format, and its location.\n",
    "\n",
    "##### Python requirements: \n",
    "- Python version\n",
    "- Python package 1\n",
    "- Python package 2\n",
    "- etc."
   ]
  },
  {
   "cell_type": "code",
   "execution_count": null,
   "id": "82213fe8-dc62-4f2f-93ac-b48e2c5e39e7",
   "metadata": {},
   "outputs": [],
   "source": [
    "# Import required packages\n",
    "\n",
    "%matplotlib inline\n",
    "import matplotlib.pyplot as plt\n",
    "import numpy as np\n",
    "import pandas as pd\n",
    "import xarray as xr\n",
    "# import ..."
   ]
  },
  {
   "cell_type": "markdown",
   "id": "ad5e18d6-67a7-4d24-9e0f-b5df4f409bf6",
   "metadata": {},
   "source": [
    "## Load data"
   ]
  },
  {
   "cell_type": "code",
   "execution_count": 6,
   "id": "07a4c7db-1490-493a-b726-2a671c91f60c",
   "metadata": {},
   "outputs": [],
   "source": [
    "# data_path = \"/path/to/data\"\n",
    "# data = pd.read_ ..."
   ]
  },
  {
   "cell_type": "markdown",
   "id": "d7ead9d5-43a0-459c-beff-0bbd305bd448",
   "metadata": {},
   "source": [
    "## Define functions"
   ]
  },
  {
   "cell_type": "code",
   "execution_count": 4,
   "id": "cc06e3ad-4384-4dd0-b2bf-043401bdfea6",
   "metadata": {},
   "outputs": [],
   "source": [
    "# Recipe functions go here\n",
    "# Turning your code into functions makes your notebook more readable\n",
    "\n",
    "def analyse(data):\n",
    "    \"\"\"\n",
    "    Description.\n",
    "\n",
    "    Parameters\n",
    "    ----------\n",
    "    data: dtype\n",
    "        Parameter description.\n",
    "\n",
    "    Returns\n",
    "    -------\n",
    "    df: dtype\n",
    "        Output description.\n",
    "    \"\"\"   \n",
    "    # do stuff\n",
    "    return df"
   ]
  },
  {
   "cell_type": "markdown",
   "id": "78953916-4ef6-490e-80c6-44b1b0d7a0c9",
   "metadata": {},
   "source": [
    "## Analysis"
   ]
  },
  {
   "cell_type": "code",
   "execution_count": null,
   "id": "43317d50-082d-4305-aa46-29f8b14babb3",
   "metadata": {},
   "outputs": [],
   "source": [
    "# Leave comments for every code block\n",
    "\n",
    "# df = analyse(data)\n",
    "# ..."
   ]
  },
  {
   "cell_type": "markdown",
   "id": "e75813c4-c5d8-4376-81d7-3d55e0e9c9cd",
   "metadata": {},
   "source": [
    "## Visualisation"
   ]
  },
  {
   "cell_type": "markdown",
   "id": "25639c64-99ab-4482-8cd0-9a9a11069701",
   "metadata": {},
   "source": [
    "### Figure title\n",
    "Figure caption"
   ]
  },
  {
   "cell_type": "code",
   "execution_count": 3,
   "id": "bd524a82-752b-4d64-ad38-3421babf9d26",
   "metadata": {},
   "outputs": [],
   "source": [
    "# Recipe visualisation code goes here\n",
    "\n",
    "# plt.figure()\n",
    "# ...  "
   ]
  },
  {
   "cell_type": "markdown",
   "id": "7dd3800e-0a63-4636-85f5-911bdf67411f",
   "metadata": {},
   "source": [
    "## Save output"
   ]
  },
  {
   "cell_type": "code",
   "execution_count": null,
   "id": "991b45ca-ac80-40b1-a066-d6f36e282e7a",
   "metadata": {},
   "outputs": [],
   "source": [
    "# Output options go here (i.e. save plots, export data)\n",
    "\n",
    "# savepath = '/path/to/saved/file/filename'\n",
    "# data.to_netcdf(path=savepath)\n",
    "# ..."
   ]
  }
 ],
 "metadata": {
  "kernelspec": {
   "display_name": "Python 3 (ipykernel)",
   "language": "python",
   "name": "python3"
  },
  "language_info": {
   "codemirror_mode": {
    "name": "ipython",
    "version": 3
   },
   "file_extension": ".py",
   "mimetype": "text/x-python",
   "name": "python",
   "nbconvert_exporter": "python",
   "pygments_lexer": "ipython3",
   "version": "3.11.9"
  }
 },
 "nbformat": 4,
 "nbformat_minor": 5
}
